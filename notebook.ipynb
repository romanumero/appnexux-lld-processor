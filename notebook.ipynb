{
 "cells": [
  {
   "cell_type": "code",
   "execution_count": 13,
   "metadata": {},
   "outputs": [],
   "source": [
    "from google.protobuf.internal.decoder import _DecodeVarint\n",
    "import gzip, shutil\n",
    "import appnexus.standard_feed_pb2\n",
    "import datetime\n",
    "import time\n",
    "import os\n",
    "import sys\n",
    "import pandas as pd"
   ]
  },
  {
   "cell_type": "code",
   "execution_count": 14,
   "metadata": {},
   "outputs": [],
   "source": [
    "def readAppNexusDataProtoFile(protoFile):\n",
    "    protos = []\n",
    "    with open(protoFile, 'rb') as f:\n",
    "        data = f.read()\n",
    "        \n",
    "        pos = 0\n",
    "        while (pos < len(data)):\n",
    "            (size, pos) = _DecodeVarint(data, pos)\n",
    "            proto = appnexus.standard_feed_pb2.standard_feed()\n",
    "            proto.ParseFromString(data[pos:(pos+size)])\n",
    "            pos += size\n",
    "            protos.append(proto)\n",
    "    return protos"
   ]
  },
  {
   "cell_type": "code",
   "execution_count": null,
   "metadata": {},
   "outputs": [],
   "source": [
    "outdir = '/tmp/pbout/'\n",
    "rootdir = '/mnt/data/AppNexus/lld/feeds/standard_feed/'\n",
    "num_files = 0\n",
    "samples = 10\n",
    "\n",
    "outfile = open(outdir+'pb.log','w')\n",
    "\n",
    "for root, subdirs, files in os.walk(rootdir):\n",
    "    for filename in files:\n",
    "        path = os.path.join(root,filename)\n",
    "        if (num_files < samples):\n",
    "            with gzip.open(path, mode='r') as fileIn, open(outdir+filename.replace('.gz',''), 'wb') as fileOut:\n",
    "                shutil.copyfileobj(fileIn, fileOut) \n",
    "            protos = readAppNexusDataProtoFile(outdir+filename.replace('.gz',''))\n",
    "            for proto in protos:\n",
    "                outfile.write(str(proto.user_id_64) + '\\n')\n",
    "        num_files  += 1\n",
    "        \n",
    "outfile.close()"
   ]
  },
  {
   "cell_type": "code",
   "execution_count": 15,
   "metadata": {},
   "outputs": [],
   "source": [
    "file = pd.read_csv('/tmp/pbout/pb.log')"
   ]
  },
  {
   "cell_type": "code",
   "execution_count": 17,
   "metadata": {},
   "outputs": [
    {
     "data": {
      "text/html": [
       "<div>\n",
       "<style scoped>\n",
       "    .dataframe tbody tr th:only-of-type {\n",
       "        vertical-align: middle;\n",
       "    }\n",
       "\n",
       "    .dataframe tbody tr th {\n",
       "        vertical-align: top;\n",
       "    }\n",
       "\n",
       "    .dataframe thead th {\n",
       "        text-align: right;\n",
       "    }\n",
       "</style>\n",
       "<table border=\"1\" class=\"dataframe\">\n",
       "  <thead>\n",
       "    <tr style=\"text-align: right;\">\n",
       "      <th></th>\n",
       "      <th>6531282571776257227</th>\n",
       "    </tr>\n",
       "  </thead>\n",
       "  <tbody>\n",
       "    <tr>\n",
       "      <th>1556126</th>\n",
       "      <td>7854710802756856372</td>\n",
       "    </tr>\n",
       "    <tr>\n",
       "      <th>1556127</th>\n",
       "      <td>2382200704382195434</td>\n",
       "    </tr>\n",
       "    <tr>\n",
       "      <th>1556128</th>\n",
       "      <td>5879186958718966270</td>\n",
       "    </tr>\n",
       "    <tr>\n",
       "      <th>1556129</th>\n",
       "      <td>903879499983249204</td>\n",
       "    </tr>\n",
       "    <tr>\n",
       "      <th>1556130</th>\n",
       "      <td>10527</td>\n",
       "    </tr>\n",
       "  </tbody>\n",
       "</table>\n",
       "</div>"
      ],
      "text/plain": [
       "         6531282571776257227\n",
       "1556126  7854710802756856372\n",
       "1556127  2382200704382195434\n",
       "1556128  5879186958718966270\n",
       "1556129   903879499983249204\n",
       "1556130                10527"
      ]
     },
     "execution_count": 17,
     "metadata": {},
     "output_type": "execute_result"
    }
   ],
   "source": [
    "file.tail()"
   ]
  },
  {
   "cell_type": "code",
   "execution_count": null,
   "metadata": {},
   "outputs": [],
   "source": []
  }
 ],
 "metadata": {
  "kernelspec": {
   "display_name": "Python 2",
   "language": "python",
   "name": "python2"
  },
  "language_info": {
   "codemirror_mode": {
    "name": "ipython",
    "version": 2
   },
   "file_extension": ".py",
   "mimetype": "text/x-python",
   "name": "python",
   "nbconvert_exporter": "python",
   "pygments_lexer": "ipython2",
   "version": "2.7.15"
  }
 },
 "nbformat": 4,
 "nbformat_minor": 2
}
