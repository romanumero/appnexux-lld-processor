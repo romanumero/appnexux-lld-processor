{
 "cells": [
  {
   "cell_type": "code",
   "execution_count": 4,
   "metadata": {},
   "outputs": [],
   "source": [
    "from google.protobuf.internal.decoder import _DecodeVarint\n",
    "import gzip, shutil\n",
    "import appnexus.standard_feed_pb2\n",
    "import datetime\n",
    "import time\n",
    "import os\n",
    "import sys"
   ]
  },
  {
   "cell_type": "code",
   "execution_count": 5,
   "metadata": {},
   "outputs": [],
   "source": [
    "def readAppNexusDataProtoFile(protoFile):\n",
    "    protos = []\n",
    "    with open(protoFile, 'rb') as f:\n",
    "        data = f.read()\n",
    "        \n",
    "        pos = 0\n",
    "        while (pos < len(data)):\n",
    "            (size, pos) = _DecodeVarint(data, pos)\n",
    "            proto = appnexus.standard_feed_pb2.standard_feed()\n",
    "            proto.ParseFromString(data[pos:(pos+size)])\n",
    "            pos += size\n",
    "            protos.append(proto)\n",
    "    return protos"
   ]
  },
  {
   "cell_type": "code",
   "execution_count": 11,
   "metadata": {},
   "outputs": [],
   "source": [
    "outdir = '/tmp/pbout/'\n",
    "rootdir = '/mnt/data/AppNexus/lld/feeds/standard_feed/'\n",
    "num_files = 0\n",
    "samples = 10\n",
    "\n",
    "outfile = open(outdir+'pb.log','w')\n",
    "\n",
    "for root, subdirs, files in os.walk(rootdir):\n",
    "    for filename in files:\n",
    "        path = os.path.join(root,filename)\n",
    "        if (num_files < samples):\n",
    "            with gzip.open(path, mode='r') as fileIn, open(outdir+filename.replace('.gz',''), 'wb') as fileOut:\n",
    "                shutil.copyfileobj(fileIn, fileOut) \n",
    "            protos = readAppNexusDataProtoFile(outdir+filename.replace('.gz',''))\n",
    "            for proto in protos:\n",
    "                outfile.write(str(proto.user_id_64) + '\\n')\n",
    "        num_files  += 1"
   ]
  },
  {
   "cell_type": "code",
   "execution_count": null,
   "metadata": {},
   "outputs": [],
   "source": []
  }
 ],
 "metadata": {
  "kernelspec": {
   "display_name": "Python 2",
   "language": "python",
   "name": "python2"
  },
  "language_info": {
   "codemirror_mode": {
    "name": "ipython",
    "version": 2
   },
   "file_extension": ".py",
   "mimetype": "text/x-python",
   "name": "python",
   "nbconvert_exporter": "python",
   "pygments_lexer": "ipython2",
   "version": "2.7.15"
  }
 },
 "nbformat": 4,
 "nbformat_minor": 2
}
